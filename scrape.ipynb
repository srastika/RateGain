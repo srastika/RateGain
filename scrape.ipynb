{
 "cells": [
  {
   "cell_type": "code",
   "execution_count": 5,
   "metadata": {},
   "outputs": [
    {
     "name": "stdout",
     "output_type": "stream",
     "text": [
      "Collecting beautifulsoup4\n",
      "  Downloading beautifulsoup4-4.12.2-py3-none-any.whl (142 kB)\n",
      "\u001b[2K     \u001b[90m━━━━━━━━━━━━━━━━━━━━━━━━━━━━━━━━━━━━━\u001b[0m \u001b[32m143.0/143.0 kB\u001b[0m \u001b[31m636.7 kB/s\u001b[0m eta \u001b[36m0:00:00\u001b[0ma \u001b[36m0:00:01\u001b[0m\n",
      "\u001b[?25hCollecting soupsieve>1.2 (from beautifulsoup4)\n",
      "  Downloading soupsieve-2.5-py3-none-any.whl.metadata (4.7 kB)\n",
      "Downloading soupsieve-2.5-py3-none-any.whl (36 kB)\n",
      "Installing collected packages: soupsieve, beautifulsoup4\n",
      "Successfully installed beautifulsoup4-4.12.2 soupsieve-2.5\n"
     ]
    }
   ],
   "source": [
    "!pip install beautifulsoup4"
   ]
  },
  {
   "cell_type": "markdown",
   "metadata": {},
   "source": [
    "● Blog title: Capture the titles of the blog posts.\n",
    "● Blog date: Retrieve the publication dates of each blog post.\n",
    "● Blog image URL: Extract the URLs of the images associated with the blogs.\n",
    "● Blog likes count: Record the number of likes each blog post has received."
   ]
  },
  {
   "cell_type": "code",
   "execution_count": 11,
   "metadata": {},
   "outputs": [],
   "source": [
    "url=\"https://rategain.com/blog/\""
   ]
  },
  {
   "cell_type": "code",
   "execution_count": 12,
   "metadata": {},
   "outputs": [],
   "source": [
    "import requests\n",
    "from bs4 import BeautifulSoup"
   ]
  },
  {
   "cell_type": "code",
   "execution_count": 17,
   "metadata": {},
   "outputs": [],
   "source": [
    "headers = {\n",
    "    \"User-Agent\": \"Mozilla/5.0 (Windows NT 10.0; Win64; x64) AppleWebKit/537.36 (KHTML, like Gecko) Chrome/80.0.3987.149 Safari/537.36\"\n",
    "}\n",
    "response = requests.get(url, headers=headers)"
   ]
  },
  {
   "cell_type": "code",
   "execution_count": 37,
   "metadata": {},
   "outputs": [
    {
     "name": "stdout",
     "output_type": "stream",
     "text": [
      "1\n",
      "\n",
      "11\n",
      "\n",
      "9\n",
      "\n",
      "0\n",
      "\n",
      "5\n",
      "\n",
      "34\n",
      "\n",
      "18\n",
      "\n",
      "13\n",
      "\n",
      "13\n",
      "\n"
     ]
    }
   ],
   "source": [
    "\n",
    "# Check if the request was successful (status code 200)\n",
    "\n",
    "if response.status_code == 200:\n",
    "    # Parse the HTML content\n",
    "    soup = BeautifulSoup(response.content, \"html.parser\")\n",
    "    \n",
    "   \n",
    "    titles = soup.select(\".content h6 a\")\n",
    "    date = soup.select(\".blog-detail .bd-item:first-child  span\")\n",
    "    imgUrl = soup.select(\".wrap .img a\")\n",
    "    likes = soup.select(\".content .zilla-likes span\")\n",
    "    \n",
    "\n",
    "    for a in titles:\n",
    "        print(a.text)\n",
    "    for d in date:\n",
    "        print(d.text)\n",
    "    for l in imgUrl:\n",
    "        print(l.get(\"href\"))\n",
    "    for l in likes:\n",
    "        if len(l.text.split(\" \"[0]))>0:\n",
    "            print(l.text.split(\" \")[0])\n",
    "else:\n",
    "    print(\"Failed to fetch the content. Status code:\", response.status_code)"
   ]
  }
 ],
 "metadata": {
  "kernelspec": {
   "display_name": ".venv",
   "language": "python",
   "name": "python3"
  },
  "language_info": {
   "codemirror_mode": {
    "name": "ipython",
    "version": 3
   },
   "file_extension": ".py",
   "mimetype": "text/x-python",
   "name": "python",
   "nbconvert_exporter": "python",
   "pygments_lexer": "ipython3",
   "version": "3.9.6"
  }
 },
 "nbformat": 4,
 "nbformat_minor": 2
}
